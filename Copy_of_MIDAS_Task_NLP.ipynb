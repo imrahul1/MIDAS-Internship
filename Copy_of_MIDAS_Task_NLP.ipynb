{
  "nbformat": 4,
  "nbformat_minor": 0,
  "metadata": {
    "colab": {
      "name": "Copy of MIDAS Task NLP.ipynb",
      "provenance": [],
      "collapsed_sections": [],
      "authorship_tag": "ABX9TyPqT0gHDQOZNFF0ga8FebzG",
      "include_colab_link": true
    },
    "kernelspec": {
      "display_name": "Python 3",
      "name": "python3"
    },
    "language_info": {
      "name": "python"
    },
    "accelerator": "GPU"
  },
  "cells": [
    {
      "cell_type": "markdown",
      "metadata": {
        "id": "view-in-github",
        "colab_type": "text"
      },
      "source": [
        "<a href=\"https://colab.research.google.com/github/imrahul1/MIDAS-Internship/blob/main/Copy_of_MIDAS_Task_NLP.ipynb\" target=\"_parent\"><img src=\"https://colab.research.google.com/assets/colab-badge.svg\" alt=\"Open In Colab\"/></a>"
      ]
    },
    {
      "cell_type": "markdown",
      "metadata": {
        "id": "AM6MHn0i8J8_"
      },
      "source": [
        "Importing the necessary modules and mounting the drive"
      ]
    },
    {
      "cell_type": "code",
      "metadata": {
        "id": "TaEV_pW6Jzfx"
      },
      "source": [
        "import pandas as pd\n",
        "import re"
      ],
      "execution_count": null,
      "outputs": []
    },
    {
      "cell_type": "code",
      "metadata": {
        "colab": {
          "base_uri": "https://localhost:8080/"
        },
        "id": "KGnJF1bzvWkQ",
        "outputId": "180352e5-8a9e-4c99-c06f-092362403092"
      },
      "source": [
        "import string\n",
        "\n",
        "import nltk\n",
        "from nltk.stem import SnowballStemmer\n",
        "nltk.download('stopwords')\n",
        "\n",
        "from nltk.corpus import stopwords\n",
        "from nltk.tokenize import word_tokenize\n",
        "\n",
        "from sklearn.feature_extraction.text import CountVectorizer, TfidfTransformer\n",
        "\n",
        "from sklearn.model_selection import train_test_split\n",
        "\n",
        "from sklearn.svm import SVC\n",
        "from sklearn.naive_bayes import MultinomialNB\n",
        "from sklearn.tree import DecisionTreeClassifier\n",
        "from sklearn.neighbors import KNeighborsClassifier\n",
        "from sklearn.ensemble import RandomForestClassifier\n",
        "\n",
        "from sklearn.metrics import classification_report, accuracy_score, confusion_matrix\n",
        "\n",
        "from sklearn.model_selection import cross_val_score\n",
        "from sklearn.model_selection import GridSearchCV"
      ],
      "execution_count": null,
      "outputs": [
        {
          "output_type": "stream",
          "text": [
            "[nltk_data] Downloading package stopwords to /root/nltk_data...\n",
            "[nltk_data]   Package stopwords is already up-to-date!\n"
          ],
          "name": "stdout"
        }
      ]
    },
    {
      "cell_type": "code",
      "metadata": {
        "id": "hJWqlBiCKgpE"
      },
      "source": [
        "import matplotlib.pyplot as plt\n",
        "import seaborn as sns\n",
        "from wordcloud import WordCloud, STOPWORDS\n",
        "from collections import Counter\n",
        "import string"
      ],
      "execution_count": null,
      "outputs": []
    },
    {
      "cell_type": "code",
      "metadata": {
        "colab": {
          "base_uri": "https://localhost:8080/"
        },
        "id": "Wy5Fdt6zKjzz",
        "outputId": "4c9f5c28-0199-48d5-f895-a04084c2cd17"
      },
      "source": [
        "from google.colab import auth\n",
        "auth.authenticate_user()\n",
        "\n",
        "import gspread\n",
        "from oauth2client.client import GoogleCredentials\n",
        "\n",
        "gc = gspread.authorize(GoogleCredentials.get_application_default())\n",
        "\n",
        "worksheet = gc.open('Copy of flipkart_com-ecommerce_sample').sheet1\n",
        "\n",
        "# get_all_values gives a list of rows.\n",
        "rows = worksheet.get_all_values()\n",
        "print(rows)\n",
        "\n",
        "# Convert to a DataFrame and render.\n",
        "df = pd.DataFrame.from_records(rows)"
      ],
      "execution_count": null,
      "outputs": [
        {
          "output_type": "stream",
          "text": [
            "IOPub data rate exceeded.\n",
            "The notebook server will temporarily stop sending output\n",
            "to the client in order to avoid crashing it.\n",
            "To change this limit, set the config variable\n",
            "`--NotebookApp.iopub_data_rate_limit`.\n",
            "\n",
            "Current values:\n",
            "NotebookApp.iopub_data_rate_limit=1000000.0 (bytes/sec)\n",
            "NotebookApp.rate_limit_window=3.0 (secs)\n",
            "\n"
          ],
          "name": "stderr"
        }
      ]
    },
    {
      "cell_type": "code",
      "metadata": {
        "id": "CxnwWBQvN-0a"
      },
      "source": [
        "df = pd.DataFrame.from_records(rows)"
      ],
      "execution_count": null,
      "outputs": []
    },
    {
      "cell_type": "code",
      "metadata": {
        "colab": {
          "base_uri": "https://localhost:8080/",
          "height": 434
        },
        "id": "tE18V2-6MtxH",
        "outputId": "5934e120-3fa1-442c-bdcf-a061884e32d4"
      },
      "source": [
        "df.head()"
      ],
      "execution_count": null,
      "outputs": [
        {
          "output_type": "execute_result",
          "data": {
            "text/html": [
              "<div>\n",
              "<style scoped>\n",
              "    .dataframe tbody tr th:only-of-type {\n",
              "        vertical-align: middle;\n",
              "    }\n",
              "\n",
              "    .dataframe tbody tr th {\n",
              "        vertical-align: top;\n",
              "    }\n",
              "\n",
              "    .dataframe thead th {\n",
              "        text-align: right;\n",
              "    }\n",
              "</style>\n",
              "<table border=\"1\" class=\"dataframe\">\n",
              "  <thead>\n",
              "    <tr style=\"text-align: right;\">\n",
              "      <th></th>\n",
              "      <th>0</th>\n",
              "      <th>1</th>\n",
              "      <th>2</th>\n",
              "      <th>3</th>\n",
              "      <th>4</th>\n",
              "      <th>5</th>\n",
              "      <th>6</th>\n",
              "      <th>7</th>\n",
              "      <th>8</th>\n",
              "      <th>9</th>\n",
              "      <th>10</th>\n",
              "      <th>11</th>\n",
              "      <th>12</th>\n",
              "      <th>13</th>\n",
              "      <th>14</th>\n",
              "    </tr>\n",
              "  </thead>\n",
              "  <tbody>\n",
              "    <tr>\n",
              "      <th>0</th>\n",
              "      <td>uniq_id</td>\n",
              "      <td>crawl_timestamp</td>\n",
              "      <td>product_url</td>\n",
              "      <td>product_name</td>\n",
              "      <td>product_category_tree</td>\n",
              "      <td>pid</td>\n",
              "      <td>retail_price</td>\n",
              "      <td>discounted_price</td>\n",
              "      <td>image</td>\n",
              "      <td>is_FK_Advantage_product</td>\n",
              "      <td>description</td>\n",
              "      <td>product_rating</td>\n",
              "      <td>overall_rating</td>\n",
              "      <td>brand</td>\n",
              "      <td>product_specifications</td>\n",
              "    </tr>\n",
              "    <tr>\n",
              "      <th>1</th>\n",
              "      <td>c2d766ca982eca8304150849735ffef9</td>\n",
              "      <td>2016-03-25 22:59:23 +0000</td>\n",
              "      <td>http://www.flipkart.com/alisha-solid-women-s-c...</td>\n",
              "      <td>Alisha Solid Women's Cycling Shorts</td>\n",
              "      <td>[\"Clothing &gt;&gt; Women's Clothing &gt;&gt; Lingerie, Sl...</td>\n",
              "      <td>SRTEH2FF9KEDEFGF</td>\n",
              "      <td>999</td>\n",
              "      <td>379</td>\n",
              "      <td>[\"http://img5a.flixcart.com/image/short/u/4/a/...</td>\n",
              "      <td>FALSE</td>\n",
              "      <td>Key Features of Alisha Solid Women's Cycling S...</td>\n",
              "      <td>No rating available</td>\n",
              "      <td>No rating available</td>\n",
              "      <td>Alisha</td>\n",
              "      <td>{\"product_specification\"=&gt;[{\"key\"=&gt;\"Number of ...</td>\n",
              "    </tr>\n",
              "    <tr>\n",
              "      <th>2</th>\n",
              "      <td>7f7036a6d550aaa89d34c77bd39a5e48</td>\n",
              "      <td>2016-03-25 22:59:23 +0000</td>\n",
              "      <td>http://www.flipkart.com/fabhomedecor-fabric-do...</td>\n",
              "      <td>FabHomeDecor Fabric Double Sofa Bed</td>\n",
              "      <td>[\"Furniture &gt;&gt; Living Room Furniture &gt;&gt; Sofa B...</td>\n",
              "      <td>SBEEH3QGU7MFYJFY</td>\n",
              "      <td>32157</td>\n",
              "      <td>22646</td>\n",
              "      <td>[\"http://img6a.flixcart.com/image/sofa-bed/j/f...</td>\n",
              "      <td>FALSE</td>\n",
              "      <td>FabHomeDecor Fabric Double Sofa Bed (Finish Co...</td>\n",
              "      <td>No rating available</td>\n",
              "      <td>No rating available</td>\n",
              "      <td>FabHomeDecor</td>\n",
              "      <td>{\"product_specification\"=&gt;[{\"key\"=&gt;\"Installati...</td>\n",
              "    </tr>\n",
              "    <tr>\n",
              "      <th>3</th>\n",
              "      <td>f449ec65dcbc041b6ae5e6a32717d01b</td>\n",
              "      <td>2016-03-25 22:59:23 +0000</td>\n",
              "      <td>http://www.flipkart.com/aw-bellies/p/itmeh4grg...</td>\n",
              "      <td>AW Bellies</td>\n",
              "      <td>[\"Footwear &gt;&gt; Women's Footwear &gt;&gt; Ballerinas &gt;...</td>\n",
              "      <td>SHOEH4GRSUBJGZXE</td>\n",
              "      <td>999</td>\n",
              "      <td>499</td>\n",
              "      <td>[\"http://img5a.flixcart.com/image/shoe/7/z/z/r...</td>\n",
              "      <td>FALSE</td>\n",
              "      <td>Key Features of AW Bellies Sandals Wedges Heel...</td>\n",
              "      <td>No rating available</td>\n",
              "      <td>No rating available</td>\n",
              "      <td>AW</td>\n",
              "      <td>{\"product_specification\"=&gt;[{\"key\"=&gt;\"Ideal For\"...</td>\n",
              "    </tr>\n",
              "    <tr>\n",
              "      <th>4</th>\n",
              "      <td>0973b37acd0c664e3de26e97e5571454</td>\n",
              "      <td>2016-03-25 22:59:23 +0000</td>\n",
              "      <td>http://www.flipkart.com/alisha-solid-women-s-c...</td>\n",
              "      <td>Alisha Solid Women's Cycling Shorts</td>\n",
              "      <td>[\"Clothing &gt;&gt; Women's Clothing &gt;&gt; Lingerie, Sl...</td>\n",
              "      <td>SRTEH2F6HUZMQ6SJ</td>\n",
              "      <td>699</td>\n",
              "      <td>267</td>\n",
              "      <td>[\"http://img5a.flixcart.com/image/short/6/2/h/...</td>\n",
              "      <td>FALSE</td>\n",
              "      <td>Key Features of Alisha Solid Women's Cycling S...</td>\n",
              "      <td>No rating available</td>\n",
              "      <td>No rating available</td>\n",
              "      <td>Alisha</td>\n",
              "      <td>{\"product_specification\"=&gt;[{\"key\"=&gt;\"Number of ...</td>\n",
              "    </tr>\n",
              "  </tbody>\n",
              "</table>\n",
              "</div>"
            ],
            "text/plain": [
              "                                 0   ...                                                 14\n",
              "0                           uniq_id  ...                             product_specifications\n",
              "1  c2d766ca982eca8304150849735ffef9  ...  {\"product_specification\"=>[{\"key\"=>\"Number of ...\n",
              "2  7f7036a6d550aaa89d34c77bd39a5e48  ...  {\"product_specification\"=>[{\"key\"=>\"Installati...\n",
              "3  f449ec65dcbc041b6ae5e6a32717d01b  ...  {\"product_specification\"=>[{\"key\"=>\"Ideal For\"...\n",
              "4  0973b37acd0c664e3de26e97e5571454  ...  {\"product_specification\"=>[{\"key\"=>\"Number of ...\n",
              "\n",
              "[5 rows x 15 columns]"
            ]
          },
          "metadata": {
            "tags": []
          },
          "execution_count": 8
        }
      ]
    },
    {
      "cell_type": "markdown",
      "metadata": {
        "id": "9hjRzuVy8ZER"
      },
      "source": [
        "Performing EDA on the dataframe"
      ]
    },
    {
      "cell_type": "code",
      "metadata": {
        "colab": {
          "base_uri": "https://localhost:8080/"
        },
        "id": "GSwDFHHLM4uC",
        "outputId": "9e7eeabd-3ebb-4a85-e8fe-bd9e4920824c"
      },
      "source": [
        "df.info()"
      ],
      "execution_count": null,
      "outputs": [
        {
          "output_type": "stream",
          "text": [
            "<class 'pandas.core.frame.DataFrame'>\n",
            "RangeIndex: 20001 entries, 0 to 20000\n",
            "Data columns (total 15 columns):\n",
            " #   Column  Non-Null Count  Dtype \n",
            "---  ------  --------------  ----- \n",
            " 0   0       20001 non-null  object\n",
            " 1   1       20001 non-null  object\n",
            " 2   2       20001 non-null  object\n",
            " 3   3       20001 non-null  object\n",
            " 4   4       20001 non-null  object\n",
            " 5   5       20001 non-null  object\n",
            " 6   6       20001 non-null  object\n",
            " 7   7       20001 non-null  object\n",
            " 8   8       20001 non-null  object\n",
            " 9   9       20001 non-null  object\n",
            " 10  10      20001 non-null  object\n",
            " 11  11      20001 non-null  object\n",
            " 12  12      20001 non-null  object\n",
            " 13  13      20001 non-null  object\n",
            " 14  14      20001 non-null  object\n",
            "dtypes: object(15)\n",
            "memory usage: 2.3+ MB\n"
          ],
          "name": "stdout"
        }
      ]
    },
    {
      "cell_type": "code",
      "metadata": {
        "id": "MVNxN7daN4_p"
      },
      "source": [
        "new_header = df.iloc[0] \n",
        "\n",
        "df = df[1:] \n",
        "\n",
        "df.columns = new_header"
      ],
      "execution_count": null,
      "outputs": []
    },
    {
      "cell_type": "code",
      "metadata": {
        "colab": {
          "base_uri": "https://localhost:8080/",
          "height": 486
        },
        "id": "EZf04DBgPe3E",
        "outputId": "133c5134-0323-4857-a993-1af4b6fb4696"
      },
      "source": [
        "df.head()"
      ],
      "execution_count": null,
      "outputs": [
        {
          "output_type": "execute_result",
          "data": {
            "text/html": [
              "<div>\n",
              "<style scoped>\n",
              "    .dataframe tbody tr th:only-of-type {\n",
              "        vertical-align: middle;\n",
              "    }\n",
              "\n",
              "    .dataframe tbody tr th {\n",
              "        vertical-align: top;\n",
              "    }\n",
              "\n",
              "    .dataframe thead th {\n",
              "        text-align: right;\n",
              "    }\n",
              "</style>\n",
              "<table border=\"1\" class=\"dataframe\">\n",
              "  <thead>\n",
              "    <tr style=\"text-align: right;\">\n",
              "      <th></th>\n",
              "      <th>uniq_id</th>\n",
              "      <th>crawl_timestamp</th>\n",
              "      <th>product_url</th>\n",
              "      <th>product_name</th>\n",
              "      <th>product_category_tree</th>\n",
              "      <th>pid</th>\n",
              "      <th>retail_price</th>\n",
              "      <th>discounted_price</th>\n",
              "      <th>image</th>\n",
              "      <th>is_FK_Advantage_product</th>\n",
              "      <th>description</th>\n",
              "      <th>product_rating</th>\n",
              "      <th>overall_rating</th>\n",
              "      <th>brand</th>\n",
              "      <th>product_specifications</th>\n",
              "    </tr>\n",
              "  </thead>\n",
              "  <tbody>\n",
              "    <tr>\n",
              "      <th>1</th>\n",
              "      <td>c2d766ca982eca8304150849735ffef9</td>\n",
              "      <td>2016-03-25 22:59:23 +0000</td>\n",
              "      <td>http://www.flipkart.com/alisha-solid-women-s-c...</td>\n",
              "      <td>Alisha Solid Women's Cycling Shorts</td>\n",
              "      <td>[\"Clothing &gt;&gt; Women's Clothing &gt;&gt; Lingerie, Sl...</td>\n",
              "      <td>SRTEH2FF9KEDEFGF</td>\n",
              "      <td>999</td>\n",
              "      <td>379</td>\n",
              "      <td>[\"http://img5a.flixcart.com/image/short/u/4/a/...</td>\n",
              "      <td>FALSE</td>\n",
              "      <td>Key Features of Alisha Solid Women's Cycling S...</td>\n",
              "      <td>No rating available</td>\n",
              "      <td>No rating available</td>\n",
              "      <td>Alisha</td>\n",
              "      <td>{\"product_specification\"=&gt;[{\"key\"=&gt;\"Number of ...</td>\n",
              "    </tr>\n",
              "    <tr>\n",
              "      <th>2</th>\n",
              "      <td>7f7036a6d550aaa89d34c77bd39a5e48</td>\n",
              "      <td>2016-03-25 22:59:23 +0000</td>\n",
              "      <td>http://www.flipkart.com/fabhomedecor-fabric-do...</td>\n",
              "      <td>FabHomeDecor Fabric Double Sofa Bed</td>\n",
              "      <td>[\"Furniture &gt;&gt; Living Room Furniture &gt;&gt; Sofa B...</td>\n",
              "      <td>SBEEH3QGU7MFYJFY</td>\n",
              "      <td>32157</td>\n",
              "      <td>22646</td>\n",
              "      <td>[\"http://img6a.flixcart.com/image/sofa-bed/j/f...</td>\n",
              "      <td>FALSE</td>\n",
              "      <td>FabHomeDecor Fabric Double Sofa Bed (Finish Co...</td>\n",
              "      <td>No rating available</td>\n",
              "      <td>No rating available</td>\n",
              "      <td>FabHomeDecor</td>\n",
              "      <td>{\"product_specification\"=&gt;[{\"key\"=&gt;\"Installati...</td>\n",
              "    </tr>\n",
              "    <tr>\n",
              "      <th>3</th>\n",
              "      <td>f449ec65dcbc041b6ae5e6a32717d01b</td>\n",
              "      <td>2016-03-25 22:59:23 +0000</td>\n",
              "      <td>http://www.flipkart.com/aw-bellies/p/itmeh4grg...</td>\n",
              "      <td>AW Bellies</td>\n",
              "      <td>[\"Footwear &gt;&gt; Women's Footwear &gt;&gt; Ballerinas &gt;...</td>\n",
              "      <td>SHOEH4GRSUBJGZXE</td>\n",
              "      <td>999</td>\n",
              "      <td>499</td>\n",
              "      <td>[\"http://img5a.flixcart.com/image/shoe/7/z/z/r...</td>\n",
              "      <td>FALSE</td>\n",
              "      <td>Key Features of AW Bellies Sandals Wedges Heel...</td>\n",
              "      <td>No rating available</td>\n",
              "      <td>No rating available</td>\n",
              "      <td>AW</td>\n",
              "      <td>{\"product_specification\"=&gt;[{\"key\"=&gt;\"Ideal For\"...</td>\n",
              "    </tr>\n",
              "    <tr>\n",
              "      <th>4</th>\n",
              "      <td>0973b37acd0c664e3de26e97e5571454</td>\n",
              "      <td>2016-03-25 22:59:23 +0000</td>\n",
              "      <td>http://www.flipkart.com/alisha-solid-women-s-c...</td>\n",
              "      <td>Alisha Solid Women's Cycling Shorts</td>\n",
              "      <td>[\"Clothing &gt;&gt; Women's Clothing &gt;&gt; Lingerie, Sl...</td>\n",
              "      <td>SRTEH2F6HUZMQ6SJ</td>\n",
              "      <td>699</td>\n",
              "      <td>267</td>\n",
              "      <td>[\"http://img5a.flixcart.com/image/short/6/2/h/...</td>\n",
              "      <td>FALSE</td>\n",
              "      <td>Key Features of Alisha Solid Women's Cycling S...</td>\n",
              "      <td>No rating available</td>\n",
              "      <td>No rating available</td>\n",
              "      <td>Alisha</td>\n",
              "      <td>{\"product_specification\"=&gt;[{\"key\"=&gt;\"Number of ...</td>\n",
              "    </tr>\n",
              "    <tr>\n",
              "      <th>5</th>\n",
              "      <td>bc940ea42ee6bef5ac7cea3fb5cfbee7</td>\n",
              "      <td>2016-03-25 22:59:23 +0000</td>\n",
              "      <td>http://www.flipkart.com/sicons-all-purpose-arn...</td>\n",
              "      <td>Sicons All Purpose Arnica Dog Shampoo</td>\n",
              "      <td>[\"Pet Supplies &gt;&gt; Grooming &gt;&gt; Skin &amp; Coat Care...</td>\n",
              "      <td>PSOEH3ZYDMSYARJ5</td>\n",
              "      <td>220</td>\n",
              "      <td>210</td>\n",
              "      <td>[\"http://img5a.flixcart.com/image/pet-shampoo/...</td>\n",
              "      <td>FALSE</td>\n",
              "      <td>Specifications of Sicons All Purpose Arnica Do...</td>\n",
              "      <td>No rating available</td>\n",
              "      <td>No rating available</td>\n",
              "      <td>Sicons</td>\n",
              "      <td>{\"product_specification\"=&gt;[{\"key\"=&gt;\"Pet Type\",...</td>\n",
              "    </tr>\n",
              "  </tbody>\n",
              "</table>\n",
              "</div>"
            ],
            "text/plain": [
              "0                           uniq_id  ...                             product_specifications\n",
              "1  c2d766ca982eca8304150849735ffef9  ...  {\"product_specification\"=>[{\"key\"=>\"Number of ...\n",
              "2  7f7036a6d550aaa89d34c77bd39a5e48  ...  {\"product_specification\"=>[{\"key\"=>\"Installati...\n",
              "3  f449ec65dcbc041b6ae5e6a32717d01b  ...  {\"product_specification\"=>[{\"key\"=>\"Ideal For\"...\n",
              "4  0973b37acd0c664e3de26e97e5571454  ...  {\"product_specification\"=>[{\"key\"=>\"Number of ...\n",
              "5  bc940ea42ee6bef5ac7cea3fb5cfbee7  ...  {\"product_specification\"=>[{\"key\"=>\"Pet Type\",...\n",
              "\n",
              "[5 rows x 15 columns]"
            ]
          },
          "metadata": {
            "tags": []
          },
          "execution_count": 11
        }
      ]
    },
    {
      "cell_type": "code",
      "metadata": {
        "colab": {
          "base_uri": "https://localhost:8080/"
        },
        "id": "dTvHqG0lwoB5",
        "outputId": "f19f9d20-39da-4e39-deee-45281e9a4a2a"
      },
      "source": [
        "df.product_specifications.values[:1]"
      ],
      "execution_count": null,
      "outputs": [
        {
          "output_type": "execute_result",
          "data": {
            "text/plain": [
              "array(['{\"product_specification\"=>[{\"key\"=>\"Number of Contents in Sales Package\", \"value\"=>\"Pack of 3\"}, {\"key\"=>\"Fabric\", \"value\"=>\"Cotton Lycra\"}, {\"key\"=>\"Type\", \"value\"=>\"Cycling Shorts\"}, {\"key\"=>\"Pattern\", \"value\"=>\"Solid\"}, {\"key\"=>\"Ideal For\", \"value\"=>\"Women\\'s\"}, {\"value\"=>\"Gentle Machine Wash in Lukewarm Water, Do Not Bleach\"}, {\"key\"=>\"Style Code\", \"value\"=>\"ALTHT_3P_21\"}, {\"value\"=>\"3 shorts\"}]}'],\n",
              "      dtype=object)"
            ]
          },
          "metadata": {
            "tags": []
          },
          "execution_count": 12
        }
      ]
    },
    {
      "cell_type": "code",
      "metadata": {
        "colab": {
          "base_uri": "https://localhost:8080/"
        },
        "id": "0MrPhMB-PgYC",
        "outputId": "9706fd6b-e243-4681-8adf-a81c0800efbe"
      },
      "source": [
        "df.columns"
      ],
      "execution_count": null,
      "outputs": [
        {
          "output_type": "execute_result",
          "data": {
            "text/plain": [
              "Index(['uniq_id', 'crawl_timestamp', 'product_url', 'product_name',\n",
              "       'product_category_tree', 'pid', 'retail_price', 'discounted_price',\n",
              "       'image', 'is_FK_Advantage_product', 'description', 'product_rating',\n",
              "       'overall_rating', 'brand', 'product_specifications'],\n",
              "      dtype='object', name=0)"
            ]
          },
          "metadata": {
            "tags": []
          },
          "execution_count": 13
        }
      ]
    },
    {
      "cell_type": "code",
      "metadata": {
        "colab": {
          "base_uri": "https://localhost:8080/",
          "height": 424
        },
        "id": "LtqdBdVXPiW9",
        "outputId": "1ec1ec8a-c7eb-4e89-9356-90ff473f5974"
      },
      "source": [
        "df[['product_name', 'product_category_tree', 'description']]"
      ],
      "execution_count": null,
      "outputs": [
        {
          "output_type": "execute_result",
          "data": {
            "text/html": [
              "<div>\n",
              "<style scoped>\n",
              "    .dataframe tbody tr th:only-of-type {\n",
              "        vertical-align: middle;\n",
              "    }\n",
              "\n",
              "    .dataframe tbody tr th {\n",
              "        vertical-align: top;\n",
              "    }\n",
              "\n",
              "    .dataframe thead th {\n",
              "        text-align: right;\n",
              "    }\n",
              "</style>\n",
              "<table border=\"1\" class=\"dataframe\">\n",
              "  <thead>\n",
              "    <tr style=\"text-align: right;\">\n",
              "      <th></th>\n",
              "      <th>product_name</th>\n",
              "      <th>product_category_tree</th>\n",
              "      <th>description</th>\n",
              "    </tr>\n",
              "  </thead>\n",
              "  <tbody>\n",
              "    <tr>\n",
              "      <th>1</th>\n",
              "      <td>Alisha Solid Women's Cycling Shorts</td>\n",
              "      <td>[\"Clothing &gt;&gt; Women's Clothing &gt;&gt; Lingerie, Sl...</td>\n",
              "      <td>Key Features of Alisha Solid Women's Cycling S...</td>\n",
              "    </tr>\n",
              "    <tr>\n",
              "      <th>2</th>\n",
              "      <td>FabHomeDecor Fabric Double Sofa Bed</td>\n",
              "      <td>[\"Furniture &gt;&gt; Living Room Furniture &gt;&gt; Sofa B...</td>\n",
              "      <td>FabHomeDecor Fabric Double Sofa Bed (Finish Co...</td>\n",
              "    </tr>\n",
              "    <tr>\n",
              "      <th>3</th>\n",
              "      <td>AW Bellies</td>\n",
              "      <td>[\"Footwear &gt;&gt; Women's Footwear &gt;&gt; Ballerinas &gt;...</td>\n",
              "      <td>Key Features of AW Bellies Sandals Wedges Heel...</td>\n",
              "    </tr>\n",
              "    <tr>\n",
              "      <th>4</th>\n",
              "      <td>Alisha Solid Women's Cycling Shorts</td>\n",
              "      <td>[\"Clothing &gt;&gt; Women's Clothing &gt;&gt; Lingerie, Sl...</td>\n",
              "      <td>Key Features of Alisha Solid Women's Cycling S...</td>\n",
              "    </tr>\n",
              "    <tr>\n",
              "      <th>5</th>\n",
              "      <td>Sicons All Purpose Arnica Dog Shampoo</td>\n",
              "      <td>[\"Pet Supplies &gt;&gt; Grooming &gt;&gt; Skin &amp; Coat Care...</td>\n",
              "      <td>Specifications of Sicons All Purpose Arnica Do...</td>\n",
              "    </tr>\n",
              "    <tr>\n",
              "      <th>...</th>\n",
              "      <td>...</td>\n",
              "      <td>...</td>\n",
              "      <td>...</td>\n",
              "    </tr>\n",
              "    <tr>\n",
              "      <th>19996</th>\n",
              "      <td>WallDesign Small Vinyl Sticker</td>\n",
              "      <td>[\"Baby Care &gt;&gt; Baby &amp; Kids Gifts &gt;&gt; Stickers &gt;...</td>\n",
              "      <td>Buy WallDesign Small Vinyl Sticker for Rs.730 ...</td>\n",
              "    </tr>\n",
              "    <tr>\n",
              "      <th>19997</th>\n",
              "      <td>Wallmantra Large Vinyl Stickers Sticker</td>\n",
              "      <td>[\"Baby Care &gt;&gt; Baby &amp; Kids Gifts &gt;&gt; Stickers &gt;...</td>\n",
              "      <td>Buy Wallmantra Large Vinyl Stickers Sticker fo...</td>\n",
              "    </tr>\n",
              "    <tr>\n",
              "      <th>19998</th>\n",
              "      <td>Elite Collection Medium Acrylic Sticker</td>\n",
              "      <td>[\"Baby Care &gt;&gt; Baby &amp; Kids Gifts &gt;&gt; Stickers &gt;...</td>\n",
              "      <td>Buy Elite Collection Medium Acrylic Sticker fo...</td>\n",
              "    </tr>\n",
              "    <tr>\n",
              "      <th>19999</th>\n",
              "      <td>Elite Collection Medium Acrylic Sticker</td>\n",
              "      <td>[\"Baby Care &gt;&gt; Baby &amp; Kids Gifts &gt;&gt; Stickers &gt;...</td>\n",
              "      <td>Buy Elite Collection Medium Acrylic Sticker fo...</td>\n",
              "    </tr>\n",
              "    <tr>\n",
              "      <th>20000</th>\n",
              "      <td>Elite Collection Medium Acrylic Sticker</td>\n",
              "      <td>[\"Baby Care &gt;&gt; Baby &amp; Kids Gifts &gt;&gt; Stickers &gt;...</td>\n",
              "      <td>Buy Elite Collection Medium Acrylic Sticker fo...</td>\n",
              "    </tr>\n",
              "  </tbody>\n",
              "</table>\n",
              "<p>20000 rows × 3 columns</p>\n",
              "</div>"
            ],
            "text/plain": [
              "0                                 product_name  ...                                        description\n",
              "1          Alisha Solid Women's Cycling Shorts  ...  Key Features of Alisha Solid Women's Cycling S...\n",
              "2          FabHomeDecor Fabric Double Sofa Bed  ...  FabHomeDecor Fabric Double Sofa Bed (Finish Co...\n",
              "3                                   AW Bellies  ...  Key Features of AW Bellies Sandals Wedges Heel...\n",
              "4          Alisha Solid Women's Cycling Shorts  ...  Key Features of Alisha Solid Women's Cycling S...\n",
              "5        Sicons All Purpose Arnica Dog Shampoo  ...  Specifications of Sicons All Purpose Arnica Do...\n",
              "...                                        ...  ...                                                ...\n",
              "19996           WallDesign Small Vinyl Sticker  ...  Buy WallDesign Small Vinyl Sticker for Rs.730 ...\n",
              "19997  Wallmantra Large Vinyl Stickers Sticker  ...  Buy Wallmantra Large Vinyl Stickers Sticker fo...\n",
              "19998  Elite Collection Medium Acrylic Sticker  ...  Buy Elite Collection Medium Acrylic Sticker fo...\n",
              "19999  Elite Collection Medium Acrylic Sticker  ...  Buy Elite Collection Medium Acrylic Sticker fo...\n",
              "20000  Elite Collection Medium Acrylic Sticker  ...  Buy Elite Collection Medium Acrylic Sticker fo...\n",
              "\n",
              "[20000 rows x 3 columns]"
            ]
          },
          "metadata": {
            "tags": []
          },
          "execution_count": 14
        }
      ]
    },
    {
      "cell_type": "code",
      "metadata": {
        "colab": {
          "base_uri": "https://localhost:8080/"
        },
        "id": "tUVkjf0EPv-Y",
        "outputId": "74d2b511-a2e9-432a-9ed6-76253f9f4de4"
      },
      "source": [
        "df.product_category_tree.value_counts()"
      ],
      "execution_count": null,
      "outputs": [
        {
          "output_type": "execute_result",
          "data": {
            "text/plain": [
              "[\"Jewellery >> Necklaces & Chains >> Necklaces\"]                                                                                                                         1567\n",
              "[\"Jewellery >> Rings\"]                                                                                                                                                    710\n",
              "[\"Automotive >> Accessories & Spare parts >> Car Interior & Exterior >> Car Interior >> Car Mats\"]                                                                        522\n",
              "[\"Jewellery >> Bangles, Bracelets & Armlets >> Bangles\"]                                                                                                                  430\n",
              "[\"Tools & Hardware >> Tools >> Gardening Tools >> Plant Containers & Sets >> Plant Container Sets\"]                                                                       332\n",
              "                                                                                                                                                                         ... \n",
              "[\"Computers >> Laptop Accessories >> Computer Accessories Combos >> PRINT SHAPES Computer Accessories Combos >> PRINT SHAPES Best green ball Laptop Skin with Mo...\"]       1\n",
              "[\"Home Decor & Festive Needs >> Table Decor & Handicrafts >> Showpieces >> Religious Idols >> Agrasen International Religious Idols\"]                                       1\n",
              "[\"Jewellery >> Bangles, Bracelets & Armlets >> Bracelets >> Herbal Jewellery Resin, Wood Bracelet\"]                                                                         1\n",
              "[\"Eternal Gandhi Super Series Crystal Paper Weight...\"]                                                                                                                     1\n",
              "[\"Clothing >> Men's Clothing >> Jeans >> Powell Jeans\"]                                                                                                                     1\n",
              "Name: product_category_tree, Length: 6466, dtype: int64"
            ]
          },
          "metadata": {
            "tags": []
          },
          "execution_count": 15
        }
      ]
    },
    {
      "cell_type": "code",
      "metadata": {
        "colab": {
          "base_uri": "https://localhost:8080/"
        },
        "id": "upw3Y64iV_l3",
        "outputId": "57654a05-15c8-4663-9f70-170cbc244ca3"
      },
      "source": [
        "df.product_category_tree[:1].values"
      ],
      "execution_count": null,
      "outputs": [
        {
          "output_type": "execute_result",
          "data": {
            "text/plain": [
              "array(['[\"Clothing >> Women\\'s Clothing >> Lingerie, Sleep & Swimwear >> Shorts >> Alisha Shorts >> Alisha Solid Women\\'s Cycling Shorts\"]'],\n",
              "      dtype=object)"
            ]
          },
          "metadata": {
            "tags": []
          },
          "execution_count": 16
        }
      ]
    },
    {
      "cell_type": "code",
      "metadata": {
        "id": "KTwyj_hlXAXv"
      },
      "source": [
        "text = df.product_category_tree[:1].values[0]"
      ],
      "execution_count": null,
      "outputs": []
    },
    {
      "cell_type": "code",
      "metadata": {
        "colab": {
          "base_uri": "https://localhost:8080/",
          "height": 36
        },
        "id": "WXz-RHLnt7-s",
        "outputId": "47cf945d-6db3-43d3-d0d5-ee4ad9719bf7"
      },
      "source": [
        "text"
      ],
      "execution_count": null,
      "outputs": [
        {
          "output_type": "execute_result",
          "data": {
            "application/vnd.google.colaboratory.intrinsic+json": {
              "type": "string"
            },
            "text/plain": [
              "'[\"Clothing >> Women\\'s Clothing >> Lingerie, Sleep & Swimwear >> Shorts >> Alisha Shorts >> Alisha Solid Women\\'s Cycling Shorts\"]'"
            ]
          },
          "metadata": {
            "tags": []
          },
          "execution_count": 18
        }
      ]
    },
    {
      "cell_type": "markdown",
      "metadata": {
        "id": "MyDJ8Oyazn_C"
      },
      "source": [
        "<h1>Preprocessing</h1>"
      ]
    },
    {
      "cell_type": "markdown",
      "metadata": {
        "id": "fTSXscnOzp-Z"
      },
      "source": [
        "Extracting the parent category from the product_category_tree column"
      ]
    },
    {
      "cell_type": "code",
      "metadata": {
        "id": "TQpRGx7-3cHE"
      },
      "source": [
        "def extract(word):\n",
        "  result = re.split(\">>\",word)\n",
        "  final = result[0][2:]\n",
        "  return final"
      ],
      "execution_count": null,
      "outputs": []
    },
    {
      "cell_type": "code",
      "metadata": {
        "id": "VhMOGLzn7D9c"
      },
      "source": [
        "df2 = df[['product_name', 'product_category_tree', 'description']]"
      ],
      "execution_count": null,
      "outputs": []
    },
    {
      "cell_type": "code",
      "metadata": {
        "colab": {
          "base_uri": "https://localhost:8080/",
          "height": 206
        },
        "id": "RBDoy0_WwKCd",
        "outputId": "1b1cf9de-4a20-4e7a-8de3-4226d0f221cb"
      },
      "source": [
        "df2.head()"
      ],
      "execution_count": null,
      "outputs": [
        {
          "output_type": "execute_result",
          "data": {
            "text/html": [
              "<div>\n",
              "<style scoped>\n",
              "    .dataframe tbody tr th:only-of-type {\n",
              "        vertical-align: middle;\n",
              "    }\n",
              "\n",
              "    .dataframe tbody tr th {\n",
              "        vertical-align: top;\n",
              "    }\n",
              "\n",
              "    .dataframe thead th {\n",
              "        text-align: right;\n",
              "    }\n",
              "</style>\n",
              "<table border=\"1\" class=\"dataframe\">\n",
              "  <thead>\n",
              "    <tr style=\"text-align: right;\">\n",
              "      <th></th>\n",
              "      <th>product_name</th>\n",
              "      <th>product_category_tree</th>\n",
              "      <th>description</th>\n",
              "    </tr>\n",
              "  </thead>\n",
              "  <tbody>\n",
              "    <tr>\n",
              "      <th>1</th>\n",
              "      <td>Alisha Solid Women's Cycling Shorts</td>\n",
              "      <td>[\"Clothing &gt;&gt; Women's Clothing &gt;&gt; Lingerie, Sl...</td>\n",
              "      <td>Key Features of Alisha Solid Women's Cycling S...</td>\n",
              "    </tr>\n",
              "    <tr>\n",
              "      <th>2</th>\n",
              "      <td>FabHomeDecor Fabric Double Sofa Bed</td>\n",
              "      <td>[\"Furniture &gt;&gt; Living Room Furniture &gt;&gt; Sofa B...</td>\n",
              "      <td>FabHomeDecor Fabric Double Sofa Bed (Finish Co...</td>\n",
              "    </tr>\n",
              "    <tr>\n",
              "      <th>3</th>\n",
              "      <td>AW Bellies</td>\n",
              "      <td>[\"Footwear &gt;&gt; Women's Footwear &gt;&gt; Ballerinas &gt;...</td>\n",
              "      <td>Key Features of AW Bellies Sandals Wedges Heel...</td>\n",
              "    </tr>\n",
              "    <tr>\n",
              "      <th>4</th>\n",
              "      <td>Alisha Solid Women's Cycling Shorts</td>\n",
              "      <td>[\"Clothing &gt;&gt; Women's Clothing &gt;&gt; Lingerie, Sl...</td>\n",
              "      <td>Key Features of Alisha Solid Women's Cycling S...</td>\n",
              "    </tr>\n",
              "    <tr>\n",
              "      <th>5</th>\n",
              "      <td>Sicons All Purpose Arnica Dog Shampoo</td>\n",
              "      <td>[\"Pet Supplies &gt;&gt; Grooming &gt;&gt; Skin &amp; Coat Care...</td>\n",
              "      <td>Specifications of Sicons All Purpose Arnica Do...</td>\n",
              "    </tr>\n",
              "  </tbody>\n",
              "</table>\n",
              "</div>"
            ],
            "text/plain": [
              "0                           product_name  ...                                        description\n",
              "1    Alisha Solid Women's Cycling Shorts  ...  Key Features of Alisha Solid Women's Cycling S...\n",
              "2    FabHomeDecor Fabric Double Sofa Bed  ...  FabHomeDecor Fabric Double Sofa Bed (Finish Co...\n",
              "3                             AW Bellies  ...  Key Features of AW Bellies Sandals Wedges Heel...\n",
              "4    Alisha Solid Women's Cycling Shorts  ...  Key Features of Alisha Solid Women's Cycling S...\n",
              "5  Sicons All Purpose Arnica Dog Shampoo  ...  Specifications of Sicons All Purpose Arnica Do...\n",
              "\n",
              "[5 rows x 3 columns]"
            ]
          },
          "metadata": {
            "tags": []
          },
          "execution_count": 21
        }
      ]
    },
    {
      "cell_type": "code",
      "metadata": {
        "colab": {
          "base_uri": "https://localhost:8080/"
        },
        "id": "3BZFZPsKwfHf",
        "outputId": "f6c40dea-6ebb-41e0-9709-00ab5661c609"
      },
      "source": [
        "df2['category'] = df2['product_category_tree'].map(extract)"
      ],
      "execution_count": null,
      "outputs": [
        {
          "output_type": "stream",
          "text": [
            "/usr/local/lib/python3.7/dist-packages/ipykernel_launcher.py:1: SettingWithCopyWarning: \n",
            "A value is trying to be set on a copy of a slice from a DataFrame.\n",
            "Try using .loc[row_indexer,col_indexer] = value instead\n",
            "\n",
            "See the caveats in the documentation: https://pandas.pydata.org/pandas-docs/stable/user_guide/indexing.html#returning-a-view-versus-a-copy\n",
            "  \"\"\"Entry point for launching an IPython kernel.\n"
          ],
          "name": "stderr"
        }
      ]
    },
    {
      "cell_type": "markdown",
      "metadata": {
        "id": "kbn6P7JXzxiS"
      },
      "source": [
        "Now we have the extracted the parent category"
      ]
    },
    {
      "cell_type": "code",
      "metadata": {
        "colab": {
          "base_uri": "https://localhost:8080/",
          "height": 206
        },
        "id": "nGMAsd3BxJye",
        "outputId": "fd4e577d-7909-489b-d374-1468c37fc33f"
      },
      "source": [
        "df2.head()"
      ],
      "execution_count": null,
      "outputs": [
        {
          "output_type": "execute_result",
          "data": {
            "text/html": [
              "<div>\n",
              "<style scoped>\n",
              "    .dataframe tbody tr th:only-of-type {\n",
              "        vertical-align: middle;\n",
              "    }\n",
              "\n",
              "    .dataframe tbody tr th {\n",
              "        vertical-align: top;\n",
              "    }\n",
              "\n",
              "    .dataframe thead th {\n",
              "        text-align: right;\n",
              "    }\n",
              "</style>\n",
              "<table border=\"1\" class=\"dataframe\">\n",
              "  <thead>\n",
              "    <tr style=\"text-align: right;\">\n",
              "      <th></th>\n",
              "      <th>product_name</th>\n",
              "      <th>product_category_tree</th>\n",
              "      <th>description</th>\n",
              "      <th>category</th>\n",
              "    </tr>\n",
              "  </thead>\n",
              "  <tbody>\n",
              "    <tr>\n",
              "      <th>1</th>\n",
              "      <td>Alisha Solid Women's Cycling Shorts</td>\n",
              "      <td>[\"Clothing &gt;&gt; Women's Clothing &gt;&gt; Lingerie, Sl...</td>\n",
              "      <td>Key Features of Alisha Solid Women's Cycling S...</td>\n",
              "      <td>Clothing</td>\n",
              "    </tr>\n",
              "    <tr>\n",
              "      <th>2</th>\n",
              "      <td>FabHomeDecor Fabric Double Sofa Bed</td>\n",
              "      <td>[\"Furniture &gt;&gt; Living Room Furniture &gt;&gt; Sofa B...</td>\n",
              "      <td>FabHomeDecor Fabric Double Sofa Bed (Finish Co...</td>\n",
              "      <td>Furniture</td>\n",
              "    </tr>\n",
              "    <tr>\n",
              "      <th>3</th>\n",
              "      <td>AW Bellies</td>\n",
              "      <td>[\"Footwear &gt;&gt; Women's Footwear &gt;&gt; Ballerinas &gt;...</td>\n",
              "      <td>Key Features of AW Bellies Sandals Wedges Heel...</td>\n",
              "      <td>Footwear</td>\n",
              "    </tr>\n",
              "    <tr>\n",
              "      <th>4</th>\n",
              "      <td>Alisha Solid Women's Cycling Shorts</td>\n",
              "      <td>[\"Clothing &gt;&gt; Women's Clothing &gt;&gt; Lingerie, Sl...</td>\n",
              "      <td>Key Features of Alisha Solid Women's Cycling S...</td>\n",
              "      <td>Clothing</td>\n",
              "    </tr>\n",
              "    <tr>\n",
              "      <th>5</th>\n",
              "      <td>Sicons All Purpose Arnica Dog Shampoo</td>\n",
              "      <td>[\"Pet Supplies &gt;&gt; Grooming &gt;&gt; Skin &amp; Coat Care...</td>\n",
              "      <td>Specifications of Sicons All Purpose Arnica Do...</td>\n",
              "      <td>Pet Supplies</td>\n",
              "    </tr>\n",
              "  </tbody>\n",
              "</table>\n",
              "</div>"
            ],
            "text/plain": [
              "0                           product_name  ...       category\n",
              "1    Alisha Solid Women's Cycling Shorts  ...      Clothing \n",
              "2    FabHomeDecor Fabric Double Sofa Bed  ...     Furniture \n",
              "3                             AW Bellies  ...      Footwear \n",
              "4    Alisha Solid Women's Cycling Shorts  ...      Clothing \n",
              "5  Sicons All Purpose Arnica Dog Shampoo  ...  Pet Supplies \n",
              "\n",
              "[5 rows x 4 columns]"
            ]
          },
          "metadata": {
            "tags": []
          },
          "execution_count": 23
        }
      ]
    },
    {
      "cell_type": "markdown",
      "metadata": {
        "id": "4GqUT93fy1Fr"
      },
      "source": [
        "The below categories are mistakes. We will remove them as they are not huge in number. They can be used for testing later one though."
      ]
    },
    {
      "cell_type": "code",
      "metadata": {
        "colab": {
          "base_uri": "https://localhost:8080/"
        },
        "id": "c9x4adebxLaV",
        "outputId": "afce9d64-42b0-410e-f637-7e55b9d9d5e9"
      },
      "source": [
        "df2.category.value_counts()[-238:]"
      ],
      "execution_count": null,
      "outputs": [
        {
          "output_type": "execute_result",
          "data": {
            "text/plain": [
              "Clovia Women's Full Coverage Bra\"]             9\n",
              "Vishudh Printed Women's Straight Kurta\"]       8\n",
              "Lilliput Top Baby Girl's  Combo\"]              8\n",
              "Olvin Aviator Sunglasses\"]                     7\n",
              "Clovia Women's T-Shirt Bra\"]                   6\n",
              "                                              ..\n",
              "Laser X Checkered Men's Boxer (Pack of 4)\"]    1\n",
              "Pazel Slim Fit Men's Jeans\"]                   1\n",
              "ABEEZ Boys, Men, Girls (Black, Pack of 1)\"]    1\n",
              "Impala Alloy Cufflink (White)\"]                1\n",
              "Miss Wow Slim Fit Women's Blue Jeans\"]         1\n",
              "Name: category, Length: 238, dtype: int64"
            ]
          },
          "metadata": {
            "tags": []
          },
          "execution_count": 24
        }
      ]
    },
    {
      "cell_type": "code",
      "metadata": {
        "id": "NBMJYYQwxQGz"
      },
      "source": [
        "eliminate = df2.category.value_counts()[-238:]"
      ],
      "execution_count": null,
      "outputs": []
    },
    {
      "cell_type": "code",
      "metadata": {
        "colab": {
          "base_uri": "https://localhost:8080/"
        },
        "id": "p5it53-_yeE0",
        "outputId": "fbf720f7-5690-4219-98fb-b9098af0e87c"
      },
      "source": [
        "eliminate"
      ],
      "execution_count": null,
      "outputs": [
        {
          "output_type": "execute_result",
          "data": {
            "text/plain": [
              "Clovia Women's Full Coverage Bra\"]             9\n",
              "Vishudh Printed Women's Straight Kurta\"]       8\n",
              "Lilliput Top Baby Girl's  Combo\"]              8\n",
              "Olvin Aviator Sunglasses\"]                     7\n",
              "Clovia Women's T-Shirt Bra\"]                   6\n",
              "                                              ..\n",
              "Laser X Checkered Men's Boxer (Pack of 4)\"]    1\n",
              "Pazel Slim Fit Men's Jeans\"]                   1\n",
              "ABEEZ Boys, Men, Girls (Black, Pack of 1)\"]    1\n",
              "Impala Alloy Cufflink (White)\"]                1\n",
              "Miss Wow Slim Fit Women's Blue Jeans\"]         1\n",
              "Name: category, Length: 238, dtype: int64"
            ]
          },
          "metadata": {
            "tags": []
          },
          "execution_count": 26
        }
      ]
    },
    {
      "cell_type": "code",
      "metadata": {
        "id": "whPQ0vwfyfiU"
      },
      "source": [
        "eliminate = pd.DataFrame(eliminate)"
      ],
      "execution_count": null,
      "outputs": []
    },
    {
      "cell_type": "code",
      "metadata": {
        "colab": {
          "base_uri": "https://localhost:8080/",
          "height": 206
        },
        "id": "gNzKMCCoy3ml",
        "outputId": "8c5c1295-b5c5-43e0-f98e-ed690c91d69b"
      },
      "source": [
        "eliminate.head()"
      ],
      "execution_count": null,
      "outputs": [
        {
          "output_type": "execute_result",
          "data": {
            "text/html": [
              "<div>\n",
              "<style scoped>\n",
              "    .dataframe tbody tr th:only-of-type {\n",
              "        vertical-align: middle;\n",
              "    }\n",
              "\n",
              "    .dataframe tbody tr th {\n",
              "        vertical-align: top;\n",
              "    }\n",
              "\n",
              "    .dataframe thead th {\n",
              "        text-align: right;\n",
              "    }\n",
              "</style>\n",
              "<table border=\"1\" class=\"dataframe\">\n",
              "  <thead>\n",
              "    <tr style=\"text-align: right;\">\n",
              "      <th></th>\n",
              "      <th>category</th>\n",
              "    </tr>\n",
              "  </thead>\n",
              "  <tbody>\n",
              "    <tr>\n",
              "      <th>Clovia Women's Full Coverage Bra\"]</th>\n",
              "      <td>9</td>\n",
              "    </tr>\n",
              "    <tr>\n",
              "      <th>Vishudh Printed Women's Straight Kurta\"]</th>\n",
              "      <td>8</td>\n",
              "    </tr>\n",
              "    <tr>\n",
              "      <th>Lilliput Top Baby Girl's  Combo\"]</th>\n",
              "      <td>8</td>\n",
              "    </tr>\n",
              "    <tr>\n",
              "      <th>Olvin Aviator Sunglasses\"]</th>\n",
              "      <td>7</td>\n",
              "    </tr>\n",
              "    <tr>\n",
              "      <th>Clovia Women's T-Shirt Bra\"]</th>\n",
              "      <td>6</td>\n",
              "    </tr>\n",
              "  </tbody>\n",
              "</table>\n",
              "</div>"
            ],
            "text/plain": [
              "                                          category\n",
              "Clovia Women's Full Coverage Bra\"]               9\n",
              "Vishudh Printed Women's Straight Kurta\"]         8\n",
              "Lilliput Top Baby Girl's  Combo\"]                8\n",
              "Olvin Aviator Sunglasses\"]                       7\n",
              "Clovia Women's T-Shirt Bra\"]                     6"
            ]
          },
          "metadata": {
            "tags": []
          },
          "execution_count": 28
        }
      ]
    },
    {
      "cell_type": "code",
      "metadata": {
        "id": "bt1PSamxy5DV"
      },
      "source": [
        "eliminate.rename(columns={'category':'frequency'}, inplace=True)"
      ],
      "execution_count": null,
      "outputs": []
    },
    {
      "cell_type": "code",
      "metadata": {
        "colab": {
          "base_uri": "https://localhost:8080/",
          "height": 206
        },
        "id": "6-08XIzAzW7a",
        "outputId": "329107a6-bc11-4952-9555-e80e75ba95f3"
      },
      "source": [
        "eliminate.head()"
      ],
      "execution_count": null,
      "outputs": [
        {
          "output_type": "execute_result",
          "data": {
            "text/html": [
              "<div>\n",
              "<style scoped>\n",
              "    .dataframe tbody tr th:only-of-type {\n",
              "        vertical-align: middle;\n",
              "    }\n",
              "\n",
              "    .dataframe tbody tr th {\n",
              "        vertical-align: top;\n",
              "    }\n",
              "\n",
              "    .dataframe thead th {\n",
              "        text-align: right;\n",
              "    }\n",
              "</style>\n",
              "<table border=\"1\" class=\"dataframe\">\n",
              "  <thead>\n",
              "    <tr style=\"text-align: right;\">\n",
              "      <th></th>\n",
              "      <th>frequency</th>\n",
              "    </tr>\n",
              "  </thead>\n",
              "  <tbody>\n",
              "    <tr>\n",
              "      <th>Clovia Women's Full Coverage Bra\"]</th>\n",
              "      <td>9</td>\n",
              "    </tr>\n",
              "    <tr>\n",
              "      <th>Vishudh Printed Women's Straight Kurta\"]</th>\n",
              "      <td>8</td>\n",
              "    </tr>\n",
              "    <tr>\n",
              "      <th>Lilliput Top Baby Girl's  Combo\"]</th>\n",
              "      <td>8</td>\n",
              "    </tr>\n",
              "    <tr>\n",
              "      <th>Olvin Aviator Sunglasses\"]</th>\n",
              "      <td>7</td>\n",
              "    </tr>\n",
              "    <tr>\n",
              "      <th>Clovia Women's T-Shirt Bra\"]</th>\n",
              "      <td>6</td>\n",
              "    </tr>\n",
              "  </tbody>\n",
              "</table>\n",
              "</div>"
            ],
            "text/plain": [
              "                                          frequency\n",
              "Clovia Women's Full Coverage Bra\"]                9\n",
              "Vishudh Printed Women's Straight Kurta\"]          8\n",
              "Lilliput Top Baby Girl's  Combo\"]                 8\n",
              "Olvin Aviator Sunglasses\"]                        7\n",
              "Clovia Women's T-Shirt Bra\"]                      6"
            ]
          },
          "metadata": {
            "tags": []
          },
          "execution_count": 30
        }
      ]
    },
    {
      "cell_type": "code",
      "metadata": {
        "id": "88JQ1PmIzYoT"
      },
      "source": [
        "eliminate['category'] = eliminate.index"
      ],
      "execution_count": null,
      "outputs": []
    },
    {
      "cell_type": "code",
      "metadata": {
        "colab": {
          "base_uri": "https://localhost:8080/",
          "height": 424
        },
        "id": "N3hHVEipzk65",
        "outputId": "1c588401-ed8e-40b5-80e7-e0fbc105da95"
      },
      "source": [
        "eliminate"
      ],
      "execution_count": null,
      "outputs": [
        {
          "output_type": "execute_result",
          "data": {
            "text/html": [
              "<div>\n",
              "<style scoped>\n",
              "    .dataframe tbody tr th:only-of-type {\n",
              "        vertical-align: middle;\n",
              "    }\n",
              "\n",
              "    .dataframe tbody tr th {\n",
              "        vertical-align: top;\n",
              "    }\n",
              "\n",
              "    .dataframe thead th {\n",
              "        text-align: right;\n",
              "    }\n",
              "</style>\n",
              "<table border=\"1\" class=\"dataframe\">\n",
              "  <thead>\n",
              "    <tr style=\"text-align: right;\">\n",
              "      <th></th>\n",
              "      <th>frequency</th>\n",
              "      <th>category</th>\n",
              "    </tr>\n",
              "  </thead>\n",
              "  <tbody>\n",
              "    <tr>\n",
              "      <th>Clovia Women's Full Coverage Bra\"]</th>\n",
              "      <td>9</td>\n",
              "      <td>Clovia Women's Full Coverage Bra\"]</td>\n",
              "    </tr>\n",
              "    <tr>\n",
              "      <th>Vishudh Printed Women's Straight Kurta\"]</th>\n",
              "      <td>8</td>\n",
              "      <td>Vishudh Printed Women's Straight Kurta\"]</td>\n",
              "    </tr>\n",
              "    <tr>\n",
              "      <th>Lilliput Top Baby Girl's  Combo\"]</th>\n",
              "      <td>8</td>\n",
              "      <td>Lilliput Top Baby Girl's  Combo\"]</td>\n",
              "    </tr>\n",
              "    <tr>\n",
              "      <th>Olvin Aviator Sunglasses\"]</th>\n",
              "      <td>7</td>\n",
              "      <td>Olvin Aviator Sunglasses\"]</td>\n",
              "    </tr>\n",
              "    <tr>\n",
              "      <th>Clovia Women's T-Shirt Bra\"]</th>\n",
              "      <td>6</td>\n",
              "      <td>Clovia Women's T-Shirt Bra\"]</td>\n",
              "    </tr>\n",
              "    <tr>\n",
              "      <th>...</th>\n",
              "      <td>...</td>\n",
              "      <td>...</td>\n",
              "    </tr>\n",
              "    <tr>\n",
              "      <th>Laser X Checkered Men's Boxer (Pack of 4)\"]</th>\n",
              "      <td>1</td>\n",
              "      <td>Laser X Checkered Men's Boxer (Pack of 4)\"]</td>\n",
              "    </tr>\n",
              "    <tr>\n",
              "      <th>Pazel Slim Fit Men's Jeans\"]</th>\n",
              "      <td>1</td>\n",
              "      <td>Pazel Slim Fit Men's Jeans\"]</td>\n",
              "    </tr>\n",
              "    <tr>\n",
              "      <th>ABEEZ Boys, Men, Girls (Black, Pack of 1)\"]</th>\n",
              "      <td>1</td>\n",
              "      <td>ABEEZ Boys, Men, Girls (Black, Pack of 1)\"]</td>\n",
              "    </tr>\n",
              "    <tr>\n",
              "      <th>Impala Alloy Cufflink (White)\"]</th>\n",
              "      <td>1</td>\n",
              "      <td>Impala Alloy Cufflink (White)\"]</td>\n",
              "    </tr>\n",
              "    <tr>\n",
              "      <th>Miss Wow Slim Fit Women's Blue Jeans\"]</th>\n",
              "      <td>1</td>\n",
              "      <td>Miss Wow Slim Fit Women's Blue Jeans\"]</td>\n",
              "    </tr>\n",
              "  </tbody>\n",
              "</table>\n",
              "<p>238 rows × 2 columns</p>\n",
              "</div>"
            ],
            "text/plain": [
              "                                             frequency                                     category\n",
              "Clovia Women's Full Coverage Bra\"]                   9           Clovia Women's Full Coverage Bra\"]\n",
              "Vishudh Printed Women's Straight Kurta\"]             8     Vishudh Printed Women's Straight Kurta\"]\n",
              "Lilliput Top Baby Girl's  Combo\"]                    8            Lilliput Top Baby Girl's  Combo\"]\n",
              "Olvin Aviator Sunglasses\"]                           7                   Olvin Aviator Sunglasses\"]\n",
              "Clovia Women's T-Shirt Bra\"]                         6                 Clovia Women's T-Shirt Bra\"]\n",
              "...                                                ...                                          ...\n",
              "Laser X Checkered Men's Boxer (Pack of 4)\"]          1  Laser X Checkered Men's Boxer (Pack of 4)\"]\n",
              "Pazel Slim Fit Men's Jeans\"]                         1                 Pazel Slim Fit Men's Jeans\"]\n",
              "ABEEZ Boys, Men, Girls (Black, Pack of 1)\"]          1  ABEEZ Boys, Men, Girls (Black, Pack of 1)\"]\n",
              "Impala Alloy Cufflink (White)\"]                      1              Impala Alloy Cufflink (White)\"]\n",
              "Miss Wow Slim Fit Women's Blue Jeans\"]               1       Miss Wow Slim Fit Women's Blue Jeans\"]\n",
              "\n",
              "[238 rows x 2 columns]"
            ]
          },
          "metadata": {
            "tags": []
          },
          "execution_count": 32
        }
      ]
    },
    {
      "cell_type": "markdown",
      "metadata": {
        "id": "hmDQhlsczN8B"
      },
      "source": [
        "Here we have removed the incorrect category values from the dataframe"
      ]
    },
    {
      "cell_type": "code",
      "metadata": {
        "id": "pI7YugEmzlqj"
      },
      "source": [
        "for i in eliminate.category.values:\n",
        "  if i in df2.category.values:\n",
        "    df2 = df2[df2['category']!= i]\n",
        "  else:\n",
        "    continue"
      ],
      "execution_count": null,
      "outputs": []
    },
    {
      "cell_type": "code",
      "metadata": {
        "colab": {
          "base_uri": "https://localhost:8080/"
        },
        "id": "9S-ikku30_81",
        "outputId": "ff51347d-8b32-4b1f-c876-81ff7ec2e229"
      },
      "source": [
        "df2.category.values"
      ],
      "execution_count": null,
      "outputs": [
        {
          "output_type": "execute_result",
          "data": {
            "text/plain": [
              "array(['Clothing ', 'Furniture ', 'Footwear ', ..., 'Baby Care ',\n",
              "       'Baby Care ', 'Baby Care '], dtype=object)"
            ]
          },
          "metadata": {
            "tags": []
          },
          "execution_count": 34
        }
      ]
    },
    {
      "cell_type": "code",
      "metadata": {
        "colab": {
          "base_uri": "https://localhost:8080/"
        },
        "id": "9x2iEVm01WOh",
        "outputId": "a5d2c1be-d951-4dc1-c6fd-0d337a42423c"
      },
      "source": [
        "df2.category.value_counts()"
      ],
      "execution_count": null,
      "outputs": [
        {
          "output_type": "execute_result",
          "data": {
            "text/plain": [
              "Clothing                              6198\n",
              "Jewellery                             3531\n",
              "Footwear                              1227\n",
              "Mobiles & Accessories                 1099\n",
              "Automotive                            1012\n",
              "Home Decor & Festive Needs             929\n",
              "Beauty and Personal Care               710\n",
              "Home Furnishing                        700\n",
              "Kitchen & Dining                       647\n",
              "Computers                              578\n",
              "Watches                                530\n",
              "Baby Care                              483\n",
              "Tools & Hardware                       391\n",
              "Toys & School Supplies                 330\n",
              "Pens & Stationery                      313\n",
              "Bags, Wallets & Belts                  265\n",
              "Furniture                              180\n",
              "Sports & Fitness                       166\n",
              "Cameras & Accessories                   82\n",
              "Home Improvement                        81\n",
              "Health & Personal Care Appliances       43\n",
              "Gaming                                  35\n",
              "Sunglasses                              35\n",
              "Pet Supplies                            30\n",
              "Home & Kitchen                          24\n",
              "Home Entertainment                      19\n",
              "eBooks                                  15\n",
              "Eyewear                                 10\n",
              "Name: category, dtype: int64"
            ]
          },
          "metadata": {
            "tags": []
          },
          "execution_count": 35
        }
      ]
    },
    {
      "cell_type": "code",
      "metadata": {
        "colab": {
          "base_uri": "https://localhost:8080/"
        },
        "id": "nUJDRgvE1iLP",
        "outputId": "49de994b-929b-4d8f-bd0f-6b95062519de"
      },
      "source": [
        "df.product_category_tree.value_counts"
      ],
      "execution_count": null,
      "outputs": [
        {
          "output_type": "execute_result",
          "data": {
            "text/plain": [
              "<bound method IndexOpsMixin.value_counts of 1        [\"Clothing >> Women's Clothing >> Lingerie, Sl...\n",
              "2        [\"Furniture >> Living Room Furniture >> Sofa B...\n",
              "3        [\"Footwear >> Women's Footwear >> Ballerinas >...\n",
              "4        [\"Clothing >> Women's Clothing >> Lingerie, Sl...\n",
              "5        [\"Pet Supplies >> Grooming >> Skin & Coat Care...\n",
              "                               ...                        \n",
              "19996    [\"Baby Care >> Baby & Kids Gifts >> Stickers >...\n",
              "19997    [\"Baby Care >> Baby & Kids Gifts >> Stickers >...\n",
              "19998    [\"Baby Care >> Baby & Kids Gifts >> Stickers >...\n",
              "19999    [\"Baby Care >> Baby & Kids Gifts >> Stickers >...\n",
              "20000    [\"Baby Care >> Baby & Kids Gifts >> Stickers >...\n",
              "Name: product_category_tree, Length: 20000, dtype: object>"
            ]
          },
          "metadata": {
            "tags": []
          },
          "execution_count": 36
        }
      ]
    },
    {
      "cell_type": "code",
      "metadata": {
        "colab": {
          "base_uri": "https://localhost:8080/"
        },
        "id": "Xc-zJqbj1sAd",
        "outputId": "e4a46f84-4745-4b08-9826-ed86678eacf6"
      },
      "source": [
        "df.product_category_tree.value_counts().sum()"
      ],
      "execution_count": null,
      "outputs": [
        {
          "output_type": "execute_result",
          "data": {
            "text/plain": [
              "20000"
            ]
          },
          "metadata": {
            "tags": []
          },
          "execution_count": 37
        }
      ]
    },
    {
      "cell_type": "code",
      "metadata": {
        "id": "77MuDnkj12Kk"
      },
      "source": [
        "stemmer = SnowballStemmer('english')"
      ],
      "execution_count": null,
      "outputs": []
    },
    {
      "cell_type": "code",
      "metadata": {
        "id": "6D9_Mk3uvseu"
      },
      "source": [
        "def remove_punctuation_and_stopwords(mess):\n",
        "    \n",
        "    no_punct = [ch for ch in mess if ch not in string.punctuation]\n",
        "    no_punct = \"\".join(no_punct).split()\n",
        "    \n",
        "    no_punct_no_stopw = [word.lower() for word in no_punct if word.lower() not in stopwords.words(\"english\")]\n",
        "    msg = \" \".join([stemmer.stem(word) for word in no_punct_no_stopw])\n",
        "        \n",
        "    return msg"
      ],
      "execution_count": null,
      "outputs": []
    },
    {
      "cell_type": "code",
      "metadata": {
        "id": "dckhVqF8vwUV"
      },
      "source": [
        "df2['description'] = df2['description'].apply(remove_punctuation_and_stopwords)"
      ],
      "execution_count": null,
      "outputs": []
    },
    {
      "cell_type": "code",
      "metadata": {
        "colab": {
          "base_uri": "https://localhost:8080/",
          "height": 206
        },
        "id": "J_GzgUmvv9Dm",
        "outputId": "2daf9658-6b2f-4765-da6c-e301eda0ca49"
      },
      "source": [
        "df2.head()"
      ],
      "execution_count": null,
      "outputs": [
        {
          "output_type": "execute_result",
          "data": {
            "text/html": [
              "<div>\n",
              "<style scoped>\n",
              "    .dataframe tbody tr th:only-of-type {\n",
              "        vertical-align: middle;\n",
              "    }\n",
              "\n",
              "    .dataframe tbody tr th {\n",
              "        vertical-align: top;\n",
              "    }\n",
              "\n",
              "    .dataframe thead th {\n",
              "        text-align: right;\n",
              "    }\n",
              "</style>\n",
              "<table border=\"1\" class=\"dataframe\">\n",
              "  <thead>\n",
              "    <tr style=\"text-align: right;\">\n",
              "      <th></th>\n",
              "      <th>product_name</th>\n",
              "      <th>product_category_tree</th>\n",
              "      <th>description</th>\n",
              "      <th>category</th>\n",
              "    </tr>\n",
              "  </thead>\n",
              "  <tbody>\n",
              "    <tr>\n",
              "      <th>1</th>\n",
              "      <td>Alisha Solid Women's Cycling Shorts</td>\n",
              "      <td>[\"Clothing &gt;&gt; Women's Clothing &gt;&gt; Lingerie, Sl...</td>\n",
              "      <td>key featur alisha solid women cycl short cotto...</td>\n",
              "      <td>Clothing</td>\n",
              "    </tr>\n",
              "    <tr>\n",
              "      <th>2</th>\n",
              "      <td>FabHomeDecor Fabric Double Sofa Bed</td>\n",
              "      <td>[\"Furniture &gt;&gt; Living Room Furniture &gt;&gt; Sofa B...</td>\n",
              "      <td>fabhomedecor fabric doubl sofa bed finish colo...</td>\n",
              "      <td>Furniture</td>\n",
              "    </tr>\n",
              "    <tr>\n",
              "      <th>3</th>\n",
              "      <td>AW Bellies</td>\n",
              "      <td>[\"Footwear &gt;&gt; Women's Footwear &gt;&gt; Ballerinas &gt;...</td>\n",
              "      <td>key featur aw belli sandal wedg heel casualsaw...</td>\n",
              "      <td>Footwear</td>\n",
              "    </tr>\n",
              "    <tr>\n",
              "      <th>4</th>\n",
              "      <td>Alisha Solid Women's Cycling Shorts</td>\n",
              "      <td>[\"Clothing &gt;&gt; Women's Clothing &gt;&gt; Lingerie, Sl...</td>\n",
              "      <td>key featur alisha solid women cycl short cotto...</td>\n",
              "      <td>Clothing</td>\n",
              "    </tr>\n",
              "    <tr>\n",
              "      <th>5</th>\n",
              "      <td>Sicons All Purpose Arnica Dog Shampoo</td>\n",
              "      <td>[\"Pet Supplies &gt;&gt; Grooming &gt;&gt; Skin &amp; Coat Care...</td>\n",
              "      <td>specif sicon purpos arnica dog shampoo 500 ml ...</td>\n",
              "      <td>Pet Supplies</td>\n",
              "    </tr>\n",
              "  </tbody>\n",
              "</table>\n",
              "</div>"
            ],
            "text/plain": [
              "0                           product_name  ...       category\n",
              "1    Alisha Solid Women's Cycling Shorts  ...      Clothing \n",
              "2    FabHomeDecor Fabric Double Sofa Bed  ...     Furniture \n",
              "3                             AW Bellies  ...      Footwear \n",
              "4    Alisha Solid Women's Cycling Shorts  ...      Clothing \n",
              "5  Sicons All Purpose Arnica Dog Shampoo  ...  Pet Supplies \n",
              "\n",
              "[5 rows x 4 columns]"
            ]
          },
          "metadata": {
            "tags": []
          },
          "execution_count": 41
        }
      ]
    },
    {
      "cell_type": "code",
      "metadata": {
        "id": "ZWaZZrjk2SCz"
      },
      "source": [
        "categories = df2.category.value_counts()"
      ],
      "execution_count": null,
      "outputs": []
    },
    {
      "cell_type": "markdown",
      "metadata": {
        "id": "3ey1ihSB872D"
      },
      "source": [
        "Vectorization"
      ]
    },
    {
      "cell_type": "code",
      "metadata": {
        "colab": {
          "base_uri": "https://localhost:8080/"
        },
        "id": "rtMwl3mov9vz",
        "outputId": "f60b0f19-5788-453c-9a7a-7d7f9c4dc226"
      },
      "source": [
        "count = CountVectorizer(remove_punctuation_and_stopwords).fit(df2['description'])\n",
        "print(len(count.vocabulary_))"
      ],
      "execution_count": null,
      "outputs": [
        {
          "output_type": "stream",
          "text": [
            "27562\n"
          ],
          "name": "stdout"
        }
      ]
    },
    {
      "cell_type": "code",
      "metadata": {
        "id": "87ApjneGxef2"
      },
      "source": [
        "count_tran = count.transform(df2['description'])"
      ],
      "execution_count": null,
      "outputs": []
    },
    {
      "cell_type": "markdown",
      "metadata": {
        "id": "KLn5wEJ79BJE"
      },
      "source": [
        "Providing weights to frequently occuring words."
      ]
    },
    {
      "cell_type": "code",
      "metadata": {
        "id": "H0TwLjXqxmSo"
      },
      "source": [
        "tfidf =TfidfTransformer().fit(count_tran)"
      ],
      "execution_count": null,
      "outputs": []
    },
    {
      "cell_type": "code",
      "metadata": {
        "id": "id_6xqGLxo_w"
      },
      "source": [
        "data_tfidf = tfidf.transform(count_tran)"
      ],
      "execution_count": null,
      "outputs": []
    },
    {
      "cell_type": "markdown",
      "metadata": {
        "id": "1kkP6Q-Xxu21"
      },
      "source": [
        "<h1> Modelling </h1>"
      ]
    },
    {
      "cell_type": "code",
      "metadata": {
        "id": "GayNQvQsxqzy"
      },
      "source": [
        "X_train, X_test, y_train, y_test = train_test_split(data_tfidf, df2['category'], test_size=0.3, random_state=5)"
      ],
      "execution_count": null,
      "outputs": []
    },
    {
      "cell_type": "code",
      "metadata": {
        "id": "Ddj-Rt5-xymw"
      },
      "source": [
        "def classification(clf):\n",
        "    fit = clf.fit(X_train, y_train)\n",
        "    predict = fit.predict(X_test)\n",
        "    print('accuracy:', accuracy_score(y_test, predict))\n",
        "    print(classification_report(y_test, predict))"
      ],
      "execution_count": null,
      "outputs": []
    },
    {
      "cell_type": "code",
      "metadata": {
        "colab": {
          "base_uri": "https://localhost:8080/"
        },
        "id": "z_OYgIT_yuk2",
        "outputId": "b133791f-80b2-4ec1-acbe-38b8ac94dede"
      },
      "source": [
        "classification(SVC())"
      ],
      "execution_count": null,
      "outputs": [
        {
          "output_type": "stream",
          "text": [
            "accuracy: 0.9654178674351584\n",
            "                                    precision    recall  f1-score   support\n",
            "\n",
            "                       Automotive        0.97      0.99      0.98       300\n",
            "                        Baby Care        0.94      0.81      0.87       140\n",
            "            Bags, Wallets & Belts        0.96      0.88      0.92        84\n",
            "         Beauty and Personal Care        0.98      0.96      0.97       225\n",
            "            Cameras & Accessories        1.00      0.88      0.93        24\n",
            "                         Clothing        0.96      1.00      0.98      1845\n",
            "                        Computers        0.92      0.94      0.93       177\n",
            "                          Eyewear        1.00      1.00      1.00         1\n",
            "                         Footwear        0.99      0.99      0.99       373\n",
            "                        Furniture        0.93      0.92      0.93        62\n",
            "                           Gaming        0.80      0.50      0.62         8\n",
            "Health & Personal Care Appliances        1.00      0.70      0.82        10\n",
            "                   Home & Kitchen        0.00      0.00      0.00         7\n",
            "       Home Decor & Festive Needs        0.92      0.99      0.96       287\n",
            "               Home Entertainment        0.00      0.00      0.00         6\n",
            "                  Home Furnishing        0.96      0.98      0.97       207\n",
            "                 Home Improvement        1.00      0.71      0.83        21\n",
            "                        Jewellery        1.00      0.99      1.00      1078\n",
            "                 Kitchen & Dining        0.94      0.91      0.93       198\n",
            "            Mobiles & Accessories        0.95      0.97      0.96       336\n",
            "                Pens & Stationery        0.95      0.69      0.80        87\n",
            "                     Pet Supplies        1.00      0.50      0.67         8\n",
            "                 Sports & Fitness        1.00      0.82      0.90        50\n",
            "                       Sunglasses        1.00      1.00      1.00         4\n",
            "                 Tools & Hardware        1.00      0.95      0.97       114\n",
            "           Toys & School Supplies        0.81      0.87      0.84        77\n",
            "                          Watches        1.00      0.99      0.99       168\n",
            "                           eBooks        0.00      0.00      0.00         2\n",
            "\n",
            "                          accuracy                           0.97      5899\n",
            "                         macro avg       0.86      0.78      0.81      5899\n",
            "                      weighted avg       0.96      0.97      0.96      5899\n",
            "\n"
          ],
          "name": "stdout"
        },
        {
          "output_type": "stream",
          "text": [
            "/usr/local/lib/python3.7/dist-packages/sklearn/metrics/_classification.py:1272: UndefinedMetricWarning: Precision and F-score are ill-defined and being set to 0.0 in labels with no predicted samples. Use `zero_division` parameter to control this behavior.\n",
            "  _warn_prf(average, modifier, msg_start, len(result))\n"
          ],
          "name": "stderr"
        }
      ]
    },
    {
      "cell_type": "code",
      "metadata": {
        "colab": {
          "base_uri": "https://localhost:8080/"
        },
        "id": "6ERi7hSJyxhs",
        "outputId": "bfee8116-41ab-4b7c-a28e-a0b182bc0076"
      },
      "source": [
        "classification(MultinomialNB())"
      ],
      "execution_count": null,
      "outputs": [
        {
          "output_type": "stream",
          "text": [
            "accuracy: 0.797423292083404\n",
            "                                    precision    recall  f1-score   support\n",
            "\n",
            "                       Automotive        0.94      0.94      0.94       300\n",
            "                        Baby Care        0.98      0.31      0.47       140\n",
            "            Bags, Wallets & Belts        1.00      0.02      0.05        84\n",
            "         Beauty and Personal Care        1.00      0.30      0.46       225\n",
            "            Cameras & Accessories        0.00      0.00      0.00        24\n",
            "                         Clothing        0.78      1.00      0.87      1845\n",
            "                        Computers        1.00      0.49      0.65       177\n",
            "                          Eyewear        0.00      0.00      0.00         1\n",
            "                         Footwear        1.00      0.76      0.86       373\n",
            "                        Furniture        1.00      0.03      0.06        62\n",
            "                           Gaming        0.00      0.00      0.00         8\n",
            "Health & Personal Care Appliances        0.00      0.00      0.00        10\n",
            "                   Home & Kitchen        0.00      0.00      0.00         7\n",
            "       Home Decor & Festive Needs        0.93      0.84      0.89       287\n",
            "               Home Entertainment        0.00      0.00      0.00         6\n",
            "                  Home Furnishing        0.94      0.64      0.76       207\n",
            "                 Home Improvement        0.00      0.00      0.00        21\n",
            "                        Jewellery        0.65      0.99      0.78      1078\n",
            "                 Kitchen & Dining        0.99      0.60      0.75       198\n",
            "            Mobiles & Accessories        0.89      0.92      0.90       336\n",
            "                Pens & Stationery        1.00      0.14      0.24        87\n",
            "                     Pet Supplies        0.00      0.00      0.00         8\n",
            "                 Sports & Fitness        0.00      0.00      0.00        50\n",
            "                       Sunglasses        0.00      0.00      0.00         4\n",
            "                 Tools & Hardware        1.00      0.69      0.82       114\n",
            "           Toys & School Supplies        0.50      0.01      0.03        77\n",
            "                          Watches        1.00      0.80      0.89       168\n",
            "                           eBooks        0.00      0.00      0.00         2\n",
            "\n",
            "                          accuracy                           0.80      5899\n",
            "                         macro avg       0.56      0.34      0.37      5899\n",
            "                      weighted avg       0.82      0.80      0.76      5899\n",
            "\n"
          ],
          "name": "stdout"
        },
        {
          "output_type": "stream",
          "text": [
            "/usr/local/lib/python3.7/dist-packages/sklearn/metrics/_classification.py:1272: UndefinedMetricWarning: Precision and F-score are ill-defined and being set to 0.0 in labels with no predicted samples. Use `zero_division` parameter to control this behavior.\n",
            "  _warn_prf(average, modifier, msg_start, len(result))\n"
          ],
          "name": "stderr"
        }
      ]
    },
    {
      "cell_type": "code",
      "metadata": {
        "colab": {
          "base_uri": "https://localhost:8080/"
        },
        "id": "HOiJwz130EJT",
        "outputId": "5e9af762-50b7-4f7f-b6f3-54aebeba0473"
      },
      "source": [
        "classification(KNeighborsClassifier(n_neighbors=49))"
      ],
      "execution_count": null,
      "outputs": [
        {
          "output_type": "stream",
          "text": [
            "accuracy: 0.917782675029666\n",
            "                                    precision    recall  f1-score   support\n",
            "\n",
            "                       Automotive        0.95      0.95      0.95       300\n",
            "                        Baby Care        0.77      0.59      0.67       140\n",
            "            Bags, Wallets & Belts        0.89      0.65      0.75        84\n",
            "         Beauty and Personal Care        0.90      0.88      0.89       225\n",
            "            Cameras & Accessories        1.00      0.75      0.86        24\n",
            "                         Clothing        0.95      1.00      0.97      1845\n",
            "                        Computers        0.83      0.80      0.81       177\n",
            "                          Eyewear        0.00      0.00      0.00         1\n",
            "                         Footwear        0.85      0.98      0.91       373\n",
            "                        Furniture        0.76      0.90      0.82        62\n",
            "                           Gaming        0.38      0.38      0.38         8\n",
            "Health & Personal Care Appliances        1.00      0.20      0.33        10\n",
            "                   Home & Kitchen        0.00      0.00      0.00         7\n",
            "       Home Decor & Festive Needs        0.90      0.81      0.85       287\n",
            "               Home Entertainment        0.00      0.00      0.00         6\n",
            "                  Home Furnishing        0.87      0.94      0.90       207\n",
            "                 Home Improvement        1.00      0.57      0.73        21\n",
            "                        Jewellery        0.95      0.99      0.97      1078\n",
            "                 Kitchen & Dining        0.96      0.83      0.89       198\n",
            "            Mobiles & Accessories        0.88      0.92      0.90       336\n",
            "                Pens & Stationery        0.95      0.45      0.61        87\n",
            "                     Pet Supplies        1.00      0.25      0.40         8\n",
            "                 Sports & Fitness        1.00      0.40      0.57        50\n",
            "                       Sunglasses        0.80      1.00      0.89         4\n",
            "                 Tools & Hardware        0.91      0.87      0.89       114\n",
            "           Toys & School Supplies        0.67      0.79      0.73        77\n",
            "                          Watches        1.00      0.99      0.99       168\n",
            "                           eBooks        0.00      0.00      0.00         2\n",
            "\n",
            "                          accuracy                           0.92      5899\n",
            "                         macro avg       0.76      0.64      0.67      5899\n",
            "                      weighted avg       0.92      0.92      0.91      5899\n",
            "\n"
          ],
          "name": "stdout"
        },
        {
          "output_type": "stream",
          "text": [
            "/usr/local/lib/python3.7/dist-packages/sklearn/metrics/_classification.py:1272: UndefinedMetricWarning: Precision and F-score are ill-defined and being set to 0.0 in labels with no predicted samples. Use `zero_division` parameter to control this behavior.\n",
            "  _warn_prf(average, modifier, msg_start, len(result))\n"
          ],
          "name": "stderr"
        }
      ]
    },
    {
      "cell_type": "code",
      "metadata": {
        "colab": {
          "base_uri": "https://localhost:8080/"
        },
        "id": "Dr2tfxfR0KSE",
        "outputId": "9646df56-b33c-4732-9139-6b7d4e69e1d0"
      },
      "source": [
        "classification(DecisionTreeClassifier(min_samples_split=7, random_state=111))"
      ],
      "execution_count": null,
      "outputs": [
        {
          "output_type": "stream",
          "text": [
            "accuracy: 0.9442278352263096\n",
            "                                    precision    recall  f1-score   support\n",
            "\n",
            "                       Automotive        0.96      0.95      0.95       300\n",
            "                        Baby Care        0.85      0.83      0.84       140\n",
            "            Bags, Wallets & Belts        0.92      0.82      0.87        84\n",
            "         Beauty and Personal Care        0.95      0.92      0.93       225\n",
            "            Cameras & Accessories        0.96      0.92      0.94        24\n",
            "                         Clothing        0.98      0.98      0.98      1845\n",
            "                        Computers        0.88      0.94      0.91       177\n",
            "                          Eyewear        0.50      1.00      0.67         1\n",
            "                         Footwear        0.98      0.97      0.97       373\n",
            "                        Furniture        0.76      0.90      0.82        62\n",
            "                           Gaming        0.62      0.62      0.62         8\n",
            "Health & Personal Care Appliances        0.78      0.70      0.74        10\n",
            "                   Home & Kitchen        0.50      0.29      0.36         7\n",
            "       Home Decor & Festive Needs        0.93      0.94      0.93       287\n",
            "               Home Entertainment        0.20      0.17      0.18         6\n",
            "                  Home Furnishing        0.89      0.90      0.89       207\n",
            "                 Home Improvement        0.75      0.86      0.80        21\n",
            "                        Jewellery        0.98      0.99      0.98      1078\n",
            "                 Kitchen & Dining        0.93      0.83      0.88       198\n",
            "            Mobiles & Accessories        0.93      0.94      0.93       336\n",
            "                Pens & Stationery        0.78      0.79      0.79        87\n",
            "                     Pet Supplies        1.00      0.50      0.67         8\n",
            "                 Sports & Fitness        0.70      0.70      0.70        50\n",
            "                       Sunglasses        0.67      1.00      0.80         4\n",
            "                 Tools & Hardware        0.99      0.97      0.98       114\n",
            "           Toys & School Supplies        0.78      0.78      0.78        77\n",
            "                          Watches        0.99      0.98      0.99       168\n",
            "                           eBooks        0.00      0.00      0.00         2\n",
            "\n",
            "                          accuracy                           0.94      5899\n",
            "                         macro avg       0.79      0.79      0.78      5899\n",
            "                      weighted avg       0.95      0.94      0.94      5899\n",
            "\n"
          ],
          "name": "stdout"
        }
      ]
    },
    {
      "cell_type": "code",
      "metadata": {
        "colab": {
          "base_uri": "https://localhost:8080/"
        },
        "id": "X_inqRnp0Oi0",
        "outputId": "e5454fc7-f8b8-46c8-92ae-f6fb4295c588"
      },
      "source": [
        "classification(RandomForestClassifier(n_estimators=31, random_state=111))"
      ],
      "execution_count": null,
      "outputs": [
        {
          "output_type": "stream",
          "text": [
            "accuracy: 0.9566028140362773\n",
            "                                    precision    recall  f1-score   support\n",
            "\n",
            "                       Automotive        0.95      1.00      0.97       300\n",
            "                        Baby Care        0.99      0.64      0.78       140\n",
            "            Bags, Wallets & Belts        1.00      0.76      0.86        84\n",
            "         Beauty and Personal Care        0.98      0.92      0.95       225\n",
            "            Cameras & Accessories        1.00      0.79      0.88        24\n",
            "                         Clothing        0.95      1.00      0.97      1845\n",
            "                        Computers        0.96      0.90      0.93       177\n",
            "                          Eyewear        1.00      1.00      1.00         1\n",
            "                         Footwear        0.99      0.96      0.97       373\n",
            "                        Furniture        0.93      0.90      0.92        62\n",
            "                           Gaming        0.80      0.50      0.62         8\n",
            "Health & Personal Care Appliances        0.89      0.80      0.84        10\n",
            "                   Home & Kitchen        1.00      0.43      0.60         7\n",
            "       Home Decor & Festive Needs        0.91      0.98      0.94       287\n",
            "               Home Entertainment        1.00      0.17      0.29         6\n",
            "                  Home Furnishing        0.97      0.95      0.96       207\n",
            "                 Home Improvement        0.94      0.76      0.84        21\n",
            "                        Jewellery        0.98      1.00      0.99      1078\n",
            "                 Kitchen & Dining        0.94      0.90      0.92       198\n",
            "            Mobiles & Accessories        0.95      0.98      0.96       336\n",
            "                Pens & Stationery        0.84      0.78      0.81        87\n",
            "                     Pet Supplies        1.00      0.50      0.67         8\n",
            "                 Sports & Fitness        1.00      0.80      0.89        50\n",
            "                       Sunglasses        1.00      1.00      1.00         4\n",
            "                 Tools & Hardware        1.00      0.96      0.98       114\n",
            "           Toys & School Supplies        0.84      0.84      0.84        77\n",
            "                          Watches        1.00      0.99      0.99       168\n",
            "                           eBooks        0.00      0.00      0.00         2\n",
            "\n",
            "                          accuracy                           0.96      5899\n",
            "                         macro avg       0.92      0.79      0.84      5899\n",
            "                      weighted avg       0.96      0.96      0.95      5899\n",
            "\n"
          ],
          "name": "stdout"
        }
      ]
    },
    {
      "cell_type": "markdown",
      "metadata": {
        "id": "nS6SHwfVAHYC"
      },
      "source": [
        ""
      ]
    },
    {
      "cell_type": "code",
      "metadata": {
        "id": "s5d9MJae_vKk"
      },
      "source": [
        ""
      ],
      "execution_count": null,
      "outputs": []
    }
  ]
}